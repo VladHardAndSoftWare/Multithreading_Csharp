{
 "cells": [
  {
   "cell_type": "markdown",
   "metadata": {},
   "source": [
    "https://metanit.com/sharp/tutorial/11.1.php"
   ]
  },
  {
   "cell_type": "code",
   "execution_count": 1,
   "metadata": {
    "dotnet_interactive": {
     "language": "csharp"
    },
    "polyglot_notebook": {
     "kernelName": "csharp"
    }
   },
   "outputs": [
    {
     "name": "stdout",
     "output_type": "stream",
     "text": [
      "Имя потока: .NET ThreadPool Worker\n",
      "Имя потока: Метод Main\n",
      "Запущен ли поток: True\n",
      "Id потока: 6\n",
      "Приоритет потока: Normal\n",
      "Статус потока: Background\n",
      "--------------------------------------\n",
      "\n"
     ]
    }
   ],
   "source": [
    "using System.Threading;\n",
    " \n",
    "// получаем текущий поток\n",
    "thread_info(Thread.CurrentThread);\n",
    "\n",
    "void thread_info(Thread currentThread){\n",
    "    //получаем имя потока\n",
    "    Console.WriteLine($\"Имя потока: {currentThread.Name}\");\n",
    "    currentThread.Name = \"Метод Main\";\n",
    "    Console.WriteLine($\"Имя потока: {currentThread.Name}\");\n",
    "    \n",
    "    Console.WriteLine($\"Запущен ли поток: {currentThread.IsAlive}\");\n",
    "    Console.WriteLine($\"Id потока: {currentThread.ManagedThreadId}\");\n",
    "    Console.WriteLine($\"Приоритет потока: {currentThread.Priority}\");\n",
    "    Console.WriteLine($\"Статус потока: {currentThread.ThreadState}\");\n",
    "    Console.WriteLine(\"--------------------------------------\");\n",
    "    Console.WriteLine();\n",
    "}"
   ]
  },
  {
   "cell_type": "code",
   "execution_count": 2,
   "metadata": {
    "dotnet_interactive": {
     "language": "csharp"
    },
    "polyglot_notebook": {
     "kernelName": "csharp"
    }
   },
   "outputs": [
    {
     "name": "stdout",
     "output_type": "stream",
     "text": [
      "0\n",
      "1\n",
      "2\n",
      "3\n",
      "4\n",
      "5\n",
      "6\n",
      "7\n",
      "8\n",
      "9\n"
     ]
    }
   ],
   "source": [
    "using System.Threading;\n",
    " \n",
    "for(int i = 0; i < 10; i++)\n",
    "{\n",
    "    Thread.Sleep(500);      // задержка выполнения на 500 миллисекунд\n",
    "    Console.WriteLine(i);\n",
    "}"
   ]
  },
  {
   "cell_type": "code",
   "execution_count": 11,
   "metadata": {
    "dotnet_interactive": {
     "language": "csharp"
    },
    "polyglot_notebook": {
     "kernelName": "csharp"
    }
   },
   "outputs": [
    {
     "name": "stdout",
     "output_type": "stream",
     "text": [
      "Имя потока: \n",
      "Имя потока: Метод Main\n",
      "Запущен ли поток: False\n",
      "Id потока: 38\n",
      "Приоритет потока: Normal\n",
      "Статус потока: Unstarted\n",
      "--------------------------------------\n",
      "\n",
      "Имя потока: \n",
      "Имя потока: Метод Main\n",
      "Запущен ли поток: False\n",
      "Id потока: 39\n",
      "Приоритет потока: Normal\n",
      "Статус потока: Unstarted\n",
      "--------------------------------------\n",
      "\n",
      "Имя потока: \n",
      "Имя потока: Метод Main\n",
      "Запущен ли поток: False\n",
      "Id потока: 40\n",
      "Приоритет потока: Normal\n",
      "Статус потока: Unstarted\n",
      "--------------------------------------\n",
      "\n",
      "Hello Threads\n",
      "Hello Threads\n",
      "Hello Threads\n"
     ]
    }
   ],
   "source": [
    "using System.Threading;\n",
    "\n",
    "// public delegate void ThreadStart();\n",
    "\n",
    "// создаем новый поток\n",
    "Thread myThread1 = new Thread(Print); \n",
    "Thread myThread2 = new Thread(new ThreadStart(Print));\n",
    "Thread myThread3 = new Thread(()=>Console.WriteLine(\"Hello Threads\"));\n",
    "\n",
    "thread_info(myThread1);\n",
    "thread_info(myThread2);\n",
    "thread_info(myThread3);\n",
    " \n",
    "myThread1.Start();  // запускаем поток myThread1\n",
    "myThread2.Start();  // запускаем поток myThread2\n",
    "myThread3.Start();  // запускаем поток myThread3\n",
    "\n",
    "void Print() => Console.WriteLine(\"Hello Threads\");"
   ]
  },
  {
   "cell_type": "markdown",
   "metadata": {},
   "source": [
    "Преимуществом потоков является то, что они могут выполняться одновременно. Например:"
   ]
  },
  {
   "cell_type": "code",
   "execution_count": 12,
   "metadata": {
    "dotnet_interactive": {
     "language": "csharp"
    },
    "polyglot_notebook": {
     "kernelName": "csharp"
    }
   },
   "outputs": [
    {
     "name": "stdout",
     "output_type": "stream",
     "text": [
      "Главный поток: 0\n",
      "Второй поток: 0\n",
      "Главный поток: 1\n",
      "Второй поток: 1\n",
      "Главный поток: 2\n",
      "Второй поток: 2\n",
      "Главный поток: 3\n",
      "Второй поток: 3\n",
      "Главный поток: 4\n"
     ]
    }
   ],
   "source": [
    "using System.Threading;\n",
    " \n",
    "// создаем новый поток\n",
    "Thread myThread = new Thread(Print);\n",
    "// запускаем поток myThread\n",
    "myThread.Start();\n",
    " \n",
    "// действия, выполняемые в главном потоке\n",
    "for (int i = 0; i < 5; i++)\n",
    "{\n",
    "    Console.WriteLine($\"Главный поток: {i}\");\n",
    "    Thread.Sleep(300);\n",
    "}\n",
    " \n",
    "// действия, выполняемые во втором потокке\n",
    "void Print()\n",
    "{\n",
    "    for (int i = 0; i < 5; i++)\n",
    "    {\n",
    "        Console.WriteLine($\"Второй поток: {i}\");\n",
    "        Thread.Sleep(400);\n",
    "    }\n",
    "}"
   ]
  },
  {
   "cell_type": "markdown",
   "metadata": {},
   "source": [
    "## Потоки с параметрами"
   ]
  },
  {
   "cell_type": "code",
   "execution_count": 13,
   "metadata": {
    "dotnet_interactive": {
     "language": "csharp"
    },
    "polyglot_notebook": {
     "kernelName": "csharp"
    }
   },
   "outputs": [
    {
     "ename": "Error",
     "evalue": "(7,24): error CS0121: The call is ambiguous between the following methods or properties: 'Thread.Thread(ThreadStart)' and 'Thread.Thread(ParameterizedThreadStart)'",
     "output_type": "error",
     "traceback": [
      "(7,24): error CS0121: The call is ambiguous between the following methods or properties: 'Thread.Thread(ThreadStart)' and 'Thread.Thread(ParameterizedThreadStart)'"
     ]
    }
   ],
   "source": [
    "using System.Threading;\n",
    "\n",
    "void Print(object? message) => Console.WriteLine(message);\n",
    "\n",
    "// создаем новые потоки\n",
    "Thread myThread1 = new Thread(new ParameterizedThreadStart(Print));\n",
    "Thread myThread2 = new Thread(Print);\n",
    "Thread myThread3 = new Thread(message => Console.WriteLine(message));\n",
    " \n",
    "// запускаем потоки\n",
    "myThread1.Start(\"Hello\");\n",
    "myThread2.Start(\"Привет\");\n",
    "myThread3.Start(\"Salut\");"
   ]
  },
  {
   "cell_type": "markdown",
   "metadata": {},
   "source": [
    "### Передаём разные типы в поток"
   ]
  },
  {
   "cell_type": "markdown",
   "metadata": {},
   "source": [
    "Передаём тип int"
   ]
  },
  {
   "cell_type": "code",
   "execution_count": 14,
   "metadata": {
    "dotnet_interactive": {
     "language": "csharp"
    },
    "polyglot_notebook": {
     "kernelName": "csharp"
    }
   },
   "outputs": [
    {
     "ename": "Error",
     "evalue": "(5,23): error CS0121: The call is ambiguous between the following methods or properties: 'Thread.Thread(ThreadStart)' and 'Thread.Thread(ParameterizedThreadStart)'",
     "output_type": "error",
     "traceback": [
      "(5,23): error CS0121: The call is ambiguous between the following methods or properties: 'Thread.Thread(ThreadStart)' and 'Thread.Thread(ParameterizedThreadStart)'"
     ]
    }
   ],
   "source": [
    "using System.Threading;\n",
    " \n",
    "int number = 4;\n",
    "// создаем новый поток\n",
    "Thread myThread = new Thread(Print);\n",
    "myThread.Start(number);    // n * n = 16\n",
    " \n",
    " \n",
    "// действия, выполняемые во втором потокке\n",
    "void Print(object? obj)\n",
    "{\n",
    "    // здесь мы ожидаем получить число\n",
    "    if (obj is int n)\n",
    "    {\n",
    "        Console.WriteLine($\"n * n = {n * n}\");\n",
    "    }\n",
    "}"
   ]
  },
  {
   "cell_type": "markdown",
   "metadata": {},
   "source": [
    "Создаём собственный тип (передаём параметры разного типа)"
   ]
  },
  {
   "cell_type": "code",
   "execution_count": 15,
   "metadata": {
    "dotnet_interactive": {
     "language": "csharp"
    },
    "polyglot_notebook": {
     "kernelName": "csharp"
    }
   },
   "outputs": [
    {
     "ename": "Error",
     "evalue": "(5,23): error CS0121: The call is ambiguous between the following methods or properties: 'Thread.Thread(ThreadStart)' and 'Thread.Thread(ParameterizedThreadStart)'",
     "output_type": "error",
     "traceback": [
      "(5,23): error CS0121: The call is ambiguous between the following methods or properties: 'Thread.Thread(ThreadStart)' and 'Thread.Thread(ParameterizedThreadStart)'"
     ]
    }
   ],
   "source": [
    "using System.Threading;\n",
    " \n",
    "Person tom = new Person(\"Tom\", 37);\n",
    "// создаем новый поток\n",
    "Thread myThread = new Thread(Print);\n",
    "myThread.Start(tom);\n",
    " \n",
    "void Print(object? obj)\n",
    "{\n",
    "    // здесь мы ожидаем получить объект Person\n",
    "    if (obj is Person person)\n",
    "    {\n",
    "        Console.WriteLine($\"Name = {person.Name}\");\n",
    "        Console.WriteLine($\"Age = {person.Age}\");\n",
    "    }\n",
    "}\n",
    " \n",
    "record class Person(string Name, int Age);"
   ]
  },
  {
   "cell_type": "markdown",
   "metadata": {},
   "source": [
    "Но тут опять же есть одно ограничение: метод Thread.Start не является типобезопасным, то есть мы можем передать в него любой тип, и потом нам придется приводить переданный объект к нужному нам типу. Для решения данной проблемы рекомендуется объявлять все используемые методы и переменные в специальном классе, а в основной программе запускать поток через ThreadStart. Например:"
   ]
  },
  {
   "cell_type": "code",
   "execution_count": 16,
   "metadata": {
    "dotnet_interactive": {
     "language": "csharp"
    },
    "polyglot_notebook": {
     "kernelName": "csharp"
    }
   },
   "outputs": [
    {
     "name": "stdout",
     "output_type": "stream",
     "text": [
      "Name = Tom\n",
      "Age = 37\n"
     ]
    }
   ],
   "source": [
    "using System.Threading;\n",
    " \n",
    "Person tom = new Person(\"Tom\", 37);\n",
    "// создаем новый поток\n",
    "Thread myThread = new Thread(tom.Print);\n",
    "myThread.Start();\n",
    " \n",
    "record class Person(string Name, int Age)\n",
    "{\n",
    "    public void Print()\n",
    "    {\n",
    "        Console.WriteLine($\"Name = {Name}\");\n",
    "        Console.WriteLine($\"Age = {Age}\");\n",
    "    }\n",
    "}"
   ]
  },
  {
   "cell_type": "markdown",
   "metadata": {},
   "source": [
    "## Синхронизация потоков"
   ]
  },
  {
   "cell_type": "code",
   "execution_count": 17,
   "metadata": {
    "dotnet_interactive": {
     "language": "csharp"
    },
    "polyglot_notebook": {
     "kernelName": "csharp"
    }
   },
   "outputs": [
    {
     "name": "stdout",
     "output_type": "stream",
     "text": [
      "Поток 1: 1\n",
      "Поток 4: 1\n",
      "Поток 3: 1\n",
      "Поток 2: 1\n",
      "Поток 5: 1\n"
     ]
    }
   ],
   "source": [
    "using System.Threading;\n",
    "\n",
    "int x = 0;\n",
    " \n",
    "// запускаем пять потоков\n",
    "for (int i = 1; i < 6; i++)\n",
    "{\n",
    "    Thread myThread = new (Print);\n",
    "    myThread.Name = $\"Поток {i}\";   // устанавливаем имя для каждого потока\n",
    "    myThread.Start();\n",
    "}\n",
    " \n",
    "void Print()\n",
    "{\n",
    "    x = 1;\n",
    "    for (int i = 1; i < 6; i++)\n",
    "    {\n",
    "        Console.WriteLine($\"{Thread.CurrentThread.Name}: {x}\");\n",
    "        x++;\n",
    "        Thread.Sleep(100);\n",
    "    }\n",
    "}"
   ]
  },
  {
   "cell_type": "code",
   "execution_count": 18,
   "metadata": {
    "dotnet_interactive": {
     "language": "csharp"
    },
    "polyglot_notebook": {
     "kernelName": "csharp"
    }
   },
   "outputs": [
    {
     "name": "stdout",
     "output_type": "stream",
     "text": [
      "Поток 1: 1\r\n"
     ]
    }
   ],
   "source": [
    "int x = 0;\n",
    "object locker = new();  // объект-заглушка\n",
    "// запускаем пять потоков\n",
    "for (int i = 1; i < 6; i++)\n",
    "{\n",
    "    Thread myThread = new(new ThreadStart(Print));\n",
    "    myThread.Name = $\"Поток {i}\";\n",
    "    myThread.Start();\n",
    "}\n",
    " \n",
    " \n",
    "void Print()\n",
    "{\n",
    "    lock (locker)\n",
    "    {\n",
    "        x = 1;\n",
    "        for (int i = 1; i < 6; i++)\n",
    "        {\n",
    "            Console.WriteLine($\"{Thread.CurrentThread.Name}: {x}\");\n",
    "            x++;\n",
    "            Thread.Sleep(100);\n",
    "        }\n",
    "    }\n",
    "}"
   ]
  },
  {
   "cell_type": "code",
   "execution_count": null,
   "metadata": {
    "dotnet_interactive": {
     "language": "csharp"
    },
    "polyglot_notebook": {
     "kernelName": "csharp"
    }
   },
   "outputs": [],
   "source": []
  }
 ],
 "metadata": {
  "kernelspec": {
   "display_name": ".NET (C#)",
   "language": "C#",
   "name": ".net-csharp"
  },
  "language_info": {
   "name": "polyglot-notebook"
  },
  "polyglot_notebook": {
   "kernelInfo": {
    "defaultKernelName": "csharp",
    "items": [
     {
      "aliases": [],
      "languageName": "csharp",
      "name": "csharp"
     }
    ]
   }
  }
 },
 "nbformat": 4,
 "nbformat_minor": 2
}
